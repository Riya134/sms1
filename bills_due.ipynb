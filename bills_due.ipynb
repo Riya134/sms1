{
  "nbformat": 4,
  "nbformat_minor": 0,
  "metadata": {
    "colab": {
      "name": "bills_due.ipynb",
      "provenance": [],
      "collapsed_sections": []
    },
    "kernelspec": {
      "name": "python3",
      "display_name": "Python 3"
    },
    "language_info": {
      "name": "python"
    }
  },
  "cells": [
    {
      "cell_type": "code",
      "metadata": {
        "colab": {
          "resources": {
            "http://localhost:8080/nbextensions/google.colab/files.js": {
              "data": "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",
              "ok": true,
              "headers": [
                [
                  "content-type",
                  "application/javascript"
                ]
              ],
              "status": 200,
              "status_text": ""
            }
          },
          "base_uri": "https://localhost:8080/",
          "height": 73
        },
        "id": "Rgx2E0d8H_3B",
        "outputId": "9af8c5ca-0fd9-4ab9-e575-d088b1355e22"
      },
      "source": [
        "##DUPE FILE, NO USE\n",
        "from google.colab import files\n",
        "uploaded = files.upload()"
      ],
      "execution_count": 1,
      "outputs": [
        {
          "output_type": "display_data",
          "data": {
            "text/html": [
              "\n",
              "     <input type=\"file\" id=\"files-3b52ed2f-bf21-40ac-84e8-5160f784c97d\" name=\"files[]\" multiple disabled\n",
              "        style=\"border:none\" />\n",
              "     <output id=\"result-3b52ed2f-bf21-40ac-84e8-5160f784c97d\">\n",
              "      Upload widget is only available when the cell has been executed in the\n",
              "      current browser session. Please rerun this cell to enable.\n",
              "      </output>\n",
              "      <script src=\"/nbextensions/google.colab/files.js\"></script> "
            ],
            "text/plain": [
              "<IPython.core.display.HTML object>"
            ]
          },
          "metadata": {
            "tags": []
          }
        },
        {
          "output_type": "stream",
          "text": [
            "Saving Sanjib_sms.csv to Sanjib_sms.csv\n"
          ],
          "name": "stdout"
        }
      ]
    },
    {
      "cell_type": "code",
      "metadata": {
        "id": "PlN9sdf8IBZt"
      },
      "source": [
        "import pandas as pd\n",
        "import numpy as np\n",
        "import io"
      ],
      "execution_count": 2,
      "outputs": []
    },
    {
      "cell_type": "code",
      "metadata": {
        "id": "By0T-pgeIgiI"
      },
      "source": [
        "import pandas as pd\n",
        "df = pd.read_csv(io.BytesIO(uploaded['Sanjib_sms.csv']))\n",
        "\n"
      ],
      "execution_count": 3,
      "outputs": []
    },
    {
      "cell_type": "code",
      "metadata": {
        "id": "HuhLJbHCIlIS"
      },
      "source": [
        "df = df.dropna()\n"
      ],
      "execution_count": 4,
      "outputs": []
    },
    {
      "cell_type": "code",
      "metadata": {
        "colab": {
          "base_uri": "https://localhost:8080/",
          "height": 415
        },
        "id": "qdn8Sj6jIoKm",
        "outputId": "41283f2a-258b-4fd0-cf3b-2ed3ab695bd3"
      },
      "source": [
        "df\n"
      ],
      "execution_count": 5,
      "outputs": [
        {
          "output_type": "execute_result",
          "data": {
            "text/html": [
              "<div>\n",
              "<style scoped>\n",
              "    .dataframe tbody tr th:only-of-type {\n",
              "        vertical-align: middle;\n",
              "    }\n",
              "\n",
              "    .dataframe tbody tr th {\n",
              "        vertical-align: top;\n",
              "    }\n",
              "\n",
              "    .dataframe thead th {\n",
              "        text-align: right;\n",
              "    }\n",
              "</style>\n",
              "<table border=\"1\" class=\"dataframe\">\n",
              "  <thead>\n",
              "    <tr style=\"text-align: right;\">\n",
              "      <th></th>\n",
              "      <th>phoneNumber</th>\n",
              "      <th>messageTime</th>\n",
              "      <th>messageType</th>\n",
              "      <th>message</th>\n",
              "    </tr>\n",
              "  </thead>\n",
              "  <tbody>\n",
              "    <tr>\n",
              "      <th>0</th>\n",
              "      <td>9.19811E+11</td>\n",
              "      <td>14-08-14 18:59</td>\n",
              "      <td>Received</td>\n",
              "      <td>Best of luck for new assignment.</td>\n",
              "    </tr>\n",
              "    <tr>\n",
              "      <th>1</th>\n",
              "      <td>9.1999E+11</td>\n",
              "      <td>14-08-14 18:59</td>\n",
              "      <td>Received</td>\n",
              "      <td>You have 3 missed call(s) from +919990377731. ...</td>\n",
              "    </tr>\n",
              "    <tr>\n",
              "      <th>2</th>\n",
              "      <td>9.19959E+11</td>\n",
              "      <td>14-08-14 18:59</td>\n",
              "      <td>Received</td>\n",
              "      <td>You have 1 missed call(s) from +919958814830. ...</td>\n",
              "    </tr>\n",
              "    <tr>\n",
              "      <th>3</th>\n",
              "      <td>9.199E+11</td>\n",
              "      <td>14-08-14 18:59</td>\n",
              "      <td>Received</td>\n",
              "      <td>You have 1 missed call(s) from +919899853039. ...</td>\n",
              "    </tr>\n",
              "    <tr>\n",
              "      <th>4</th>\n",
              "      <td>9.2E+11</td>\n",
              "      <td>14-08-14 18:59</td>\n",
              "      <td>Received</td>\n",
              "      <td>You have 1 missed call(s) from +919999709229. ...</td>\n",
              "    </tr>\n",
              "    <tr>\n",
              "      <th>...</th>\n",
              "      <td>...</td>\n",
              "      <td>...</td>\n",
              "      <td>...</td>\n",
              "      <td>...</td>\n",
              "    </tr>\n",
              "    <tr>\n",
              "      <th>19364</th>\n",
              "      <td>BP-iPaytm</td>\n",
              "      <td>29-12-20 20:57</td>\n",
              "      <td>Received</td>\n",
              "      <td>Paid Rs.123 to Daily fresh dairy frwsh from Pa...</td>\n",
              "    </tr>\n",
              "    <tr>\n",
              "      <th>19365</th>\n",
              "      <td>AD-JIOMRT</td>\n",
              "      <td>30-12-20 8:03</td>\n",
              "      <td>Received</td>\n",
              "      <td>Your order 16092955829015158A is booked in Jio...</td>\n",
              "    </tr>\n",
              "    <tr>\n",
              "      <th>19366</th>\n",
              "      <td>59039029</td>\n",
              "      <td>30-12-20 8:28</td>\n",
              "      <td>Received</td>\n",
              "      <td>Returned: Home Centre Colour Connect Mini Fry ...</td>\n",
              "    </tr>\n",
              "    <tr>\n",
              "      <th>19367</th>\n",
              "      <td>VK-ITDEPT</td>\n",
              "      <td>30-12-20 8:50</td>\n",
              "      <td>Received</td>\n",
              "      <td>Please e-file your ITR before 31st December 20...</td>\n",
              "    </tr>\n",
              "    <tr>\n",
              "      <th>19368</th>\n",
              "      <td>59039029</td>\n",
              "      <td>30-12-20 9:44</td>\n",
              "      <td>Received</td>\n",
              "      <td>Your return pickup for 408-4521494-3522702 is ...</td>\n",
              "    </tr>\n",
              "  </tbody>\n",
              "</table>\n",
              "<p>19368 rows × 4 columns</p>\n",
              "</div>"
            ],
            "text/plain": [
              "       phoneNumber  ...                                            message\n",
              "0      9.19811E+11  ...                  Best of luck for new assignment. \n",
              "1       9.1999E+11  ...  You have 3 missed call(s) from +919990377731. ...\n",
              "2      9.19959E+11  ...  You have 1 missed call(s) from +919958814830. ...\n",
              "3        9.199E+11  ...  You have 1 missed call(s) from +919899853039. ...\n",
              "4          9.2E+11  ...  You have 1 missed call(s) from +919999709229. ...\n",
              "...            ...  ...                                                ...\n",
              "19364    BP-iPaytm  ...  Paid Rs.123 to Daily fresh dairy frwsh from Pa...\n",
              "19365    AD-JIOMRT  ...  Your order 16092955829015158A is booked in Jio...\n",
              "19366     59039029  ...  Returned: Home Centre Colour Connect Mini Fry ...\n",
              "19367    VK-ITDEPT  ...  Please e-file your ITR before 31st December 20...\n",
              "19368     59039029  ...  Your return pickup for 408-4521494-3522702 is ...\n",
              "\n",
              "[19368 rows x 4 columns]"
            ]
          },
          "metadata": {
            "tags": []
          },
          "execution_count": 5
        }
      ]
    },
    {
      "cell_type": "code",
      "metadata": {
        "colab": {
          "base_uri": "https://localhost:8080/",
          "height": 415
        },
        "id": "yAqlswsSIrOh",
        "outputId": "8471faaa-72dd-450f-fa45-6c92620acb1a"
      },
      "source": [
        "bills_due = df[~df.message.str.contains('payment received|initiated|discount|processed|register|bills|buy|alerts|not to disclose|sell|made a payment|successful|paid|spent|debited|credited|spent|received|balance|data alert|sale|offer|sell',case=False)  &  df.message.str.contains('bill|amt due|amount due|alert|payment|due amount|due amt|bills due|outstanding of',case=False)]\n",
        "bills_due "
      ],
      "execution_count": 6,
      "outputs": [
        {
          "output_type": "execute_result",
          "data": {
            "text/html": [
              "<div>\n",
              "<style scoped>\n",
              "    .dataframe tbody tr th:only-of-type {\n",
              "        vertical-align: middle;\n",
              "    }\n",
              "\n",
              "    .dataframe tbody tr th {\n",
              "        vertical-align: top;\n",
              "    }\n",
              "\n",
              "    .dataframe thead th {\n",
              "        text-align: right;\n",
              "    }\n",
              "</style>\n",
              "<table border=\"1\" class=\"dataframe\">\n",
              "  <thead>\n",
              "    <tr style=\"text-align: right;\">\n",
              "      <th></th>\n",
              "      <th>phoneNumber</th>\n",
              "      <th>messageTime</th>\n",
              "      <th>messageType</th>\n",
              "      <th>message</th>\n",
              "    </tr>\n",
              "  </thead>\n",
              "  <tbody>\n",
              "    <tr>\n",
              "      <th>27</th>\n",
              "      <td>LM-SBICRD</td>\n",
              "      <td>17-08-14 12:45</td>\n",
              "      <td>Received</td>\n",
              "      <td>Your Statement Dt 15-AUG-14has been dispatched...</td>\n",
              "    </tr>\n",
              "    <tr>\n",
              "      <th>41</th>\n",
              "      <td>121</td>\n",
              "      <td>08-09-14 10:42</td>\n",
              "      <td>Received</td>\n",
              "      <td>Bill dated 06-Sep-2014 for Rs 111.24 has been ...</td>\n",
              "    </tr>\n",
              "    <tr>\n",
              "      <th>42</th>\n",
              "      <td>121</td>\n",
              "      <td>08-09-14 14:47</td>\n",
              "      <td>Received</td>\n",
              "      <td>Bill for airtel mobile 8527890804, dtd 06-Sep-...</td>\n",
              "    </tr>\n",
              "    <tr>\n",
              "      <th>46</th>\n",
              "      <td>121</td>\n",
              "      <td>08-10-14 9:50</td>\n",
              "      <td>Received</td>\n",
              "      <td>Bill for airtel mobile 8527890804, dtd 06-Oct-...</td>\n",
              "    </tr>\n",
              "    <tr>\n",
              "      <th>54</th>\n",
              "      <td>121</td>\n",
              "      <td>07-11-14 18:03</td>\n",
              "      <td>Received</td>\n",
              "      <td>Bill for airtel mobile 8527890804, dtd 06-Nov-...</td>\n",
              "    </tr>\n",
              "    <tr>\n",
              "      <th>...</th>\n",
              "      <td>...</td>\n",
              "      <td>...</td>\n",
              "      <td>...</td>\n",
              "      <td>...</td>\n",
              "    </tr>\n",
              "    <tr>\n",
              "      <th>19035</th>\n",
              "      <td>TX-DBSBNK</td>\n",
              "      <td>14-12-20 2:45</td>\n",
              "      <td>Received</td>\n",
              "      <td>Your IGL bill of Rs 164.70for 7000056947 is du...</td>\n",
              "    </tr>\n",
              "    <tr>\n",
              "      <th>19142</th>\n",
              "      <td>AX-HDFCBK</td>\n",
              "      <td>18-12-20 15:18</td>\n",
              "      <td>Received</td>\n",
              "      <td>Dear Cardmember, E-statement for your Card end...</td>\n",
              "    </tr>\n",
              "    <tr>\n",
              "      <th>19226</th>\n",
              "      <td>AX-GSTEWB</td>\n",
              "      <td>22-12-20 10:33</td>\n",
              "      <td>Received</td>\n",
              "      <td>GSTIN: 09AADCL1050H1ZS: Your E-waybill statist...</td>\n",
              "    </tr>\n",
              "    <tr>\n",
              "      <th>19271</th>\n",
              "      <td>JD-MYAMEX</td>\n",
              "      <td>24-12-20 10:21</td>\n",
              "      <td>Received</td>\n",
              "      <td>Dear Customer, your statement for AMEX Card **...</td>\n",
              "    </tr>\n",
              "    <tr>\n",
              "      <th>19341</th>\n",
              "      <td>121</td>\n",
              "      <td>28-12-20 13:15</td>\n",
              "      <td>Received</td>\n",
              "      <td>Bill details for your Airtel Xstream Fiber a/c...</td>\n",
              "    </tr>\n",
              "  </tbody>\n",
              "</table>\n",
              "<p>795 rows × 4 columns</p>\n",
              "</div>"
            ],
            "text/plain": [
              "      phoneNumber  ...                                            message\n",
              "27      LM-SBICRD  ...  Your Statement Dt 15-AUG-14has been dispatched...\n",
              "41            121  ...  Bill dated 06-Sep-2014 for Rs 111.24 has been ...\n",
              "42            121  ...  Bill for airtel mobile 8527890804, dtd 06-Sep-...\n",
              "46            121  ...  Bill for airtel mobile 8527890804, dtd 06-Oct-...\n",
              "54            121  ...  Bill for airtel mobile 8527890804, dtd 06-Nov-...\n",
              "...           ...  ...                                                ...\n",
              "19035   TX-DBSBNK  ...  Your IGL bill of Rs 164.70for 7000056947 is du...\n",
              "19142   AX-HDFCBK  ...  Dear Cardmember, E-statement for your Card end...\n",
              "19226   AX-GSTEWB  ...  GSTIN: 09AADCL1050H1ZS: Your E-waybill statist...\n",
              "19271   JD-MYAMEX  ...  Dear Customer, your statement for AMEX Card **...\n",
              "19341         121  ...  Bill details for your Airtel Xstream Fiber a/c...\n",
              "\n",
              "[795 rows x 4 columns]"
            ]
          },
          "metadata": {
            "tags": []
          },
          "execution_count": 6
        }
      ]
    },
    {
      "cell_type": "code",
      "metadata": {
        "colab": {
          "base_uri": "https://localhost:8080/",
          "height": 53
        },
        "id": "xLCMCU8MI1Jm",
        "outputId": "596e7f36-cd64-4916-9e58-aa57ffedbf9d"
      },
      "source": [
        "df['message'][42]"
      ],
      "execution_count": 9,
      "outputs": [
        {
          "output_type": "execute_result",
          "data": {
            "application/vnd.google.colaboratory.intrinsic+json": {
              "type": "string"
            },
            "text/plain": [
              "'Bill for airtel mobile 8527890804, dtd 06-Sep-14, due amount Rs111.24, due date 24-Sep-14 has been sent on SanjibKumar@gmail.com from ebill@in.airtel.com .'"
            ]
          },
          "metadata": {
            "tags": []
          },
          "execution_count": 9
        }
      ]
    },
    {
      "cell_type": "code",
      "metadata": {
        "colab": {
          "base_uri": "https://localhost:8080/"
        },
        "id": "HQ6HXch3I7F8",
        "outputId": "e435cfa4-5274-455b-8198-ba3140c33442"
      },
      "source": [
        "#amount debited/credited - wallet\n",
        "import re\n",
        "\n",
        "bills_due['amount'] = [0]*bills_due.shape[0]\n",
        "for x in bills_due.index:\n",
        "  try:\n",
        "    k = re.findall('[?:Rs\\.?INR]\\s*(\\d+(?:[.,]\\d+)*)|(\\d+(?:[.,]\\d+)*)\\s*(?:Rs\\.?|INR)', bills_due.message[x])\n",
        "    currency = re.findall(r'\\b(Rs|INR|\\$)', bills_due.message[x])\n",
        "    #print(currency)\n",
        "    bills_due.loc[x, 'amount'] = currency[0] + ' '+ k[0][0]\n",
        "  except:\n",
        "    pass "
      ],
      "execution_count": 7,
      "outputs": [
        {
          "output_type": "stream",
          "text": [
            "/usr/local/lib/python3.7/dist-packages/ipykernel_launcher.py:4: SettingWithCopyWarning: \n",
            "A value is trying to be set on a copy of a slice from a DataFrame.\n",
            "Try using .loc[row_indexer,col_indexer] = value instead\n",
            "\n",
            "See the caveats in the documentation: https://pandas.pydata.org/pandas-docs/stable/user_guide/indexing.html#returning-a-view-versus-a-copy\n",
            "  after removing the cwd from sys.path.\n",
            "/usr/local/lib/python3.7/dist-packages/pandas/core/indexing.py:1763: SettingWithCopyWarning: \n",
            "A value is trying to be set on a copy of a slice from a DataFrame.\n",
            "Try using .loc[row_indexer,col_indexer] = value instead\n",
            "\n",
            "See the caveats in the documentation: https://pandas.pydata.org/pandas-docs/stable/user_guide/indexing.html#returning-a-view-versus-a-copy\n",
            "  isetter(loc, value)\n",
            "/usr/local/lib/python3.7/dist-packages/pandas/core/indexing.py:670: SettingWithCopyWarning: \n",
            "A value is trying to be set on a copy of a slice from a DataFrame\n",
            "\n",
            "See the caveats in the documentation: https://pandas.pydata.org/pandas-docs/stable/user_guide/indexing.html#returning-a-view-versus-a-copy\n",
            "  iloc._setitem_with_indexer(indexer, value)\n",
            "/usr/local/lib/python3.7/dist-packages/ipykernel_launcher.py:10: SettingWithCopyWarning: \n",
            "A value is trying to be set on a copy of a slice from a DataFrame\n",
            "\n",
            "See the caveats in the documentation: https://pandas.pydata.org/pandas-docs/stable/user_guide/indexing.html#returning-a-view-versus-a-copy\n",
            "  # Remove the CWD from sys.path while we load stuff.\n"
          ],
          "name": "stderr"
        }
      ]
    },
    {
      "cell_type": "code",
      "metadata": {
        "colab": {
          "base_uri": "https://localhost:8080/",
          "height": 415
        },
        "id": "PPEQEl2RJkXK",
        "outputId": "2844aa8e-fbef-46f5-8908-f9fbc7fcc468"
      },
      "source": [
        "bills_due"
      ],
      "execution_count": 8,
      "outputs": [
        {
          "output_type": "execute_result",
          "data": {
            "text/html": [
              "<div>\n",
              "<style scoped>\n",
              "    .dataframe tbody tr th:only-of-type {\n",
              "        vertical-align: middle;\n",
              "    }\n",
              "\n",
              "    .dataframe tbody tr th {\n",
              "        vertical-align: top;\n",
              "    }\n",
              "\n",
              "    .dataframe thead th {\n",
              "        text-align: right;\n",
              "    }\n",
              "</style>\n",
              "<table border=\"1\" class=\"dataframe\">\n",
              "  <thead>\n",
              "    <tr style=\"text-align: right;\">\n",
              "      <th></th>\n",
              "      <th>phoneNumber</th>\n",
              "      <th>messageTime</th>\n",
              "      <th>messageType</th>\n",
              "      <th>message</th>\n",
              "      <th>amount</th>\n",
              "    </tr>\n",
              "  </thead>\n",
              "  <tbody>\n",
              "    <tr>\n",
              "      <th>27</th>\n",
              "      <td>LM-SBICRD</td>\n",
              "      <td>17-08-14 12:45</td>\n",
              "      <td>Received</td>\n",
              "      <td>Your Statement Dt 15-AUG-14has been dispatched...</td>\n",
              "      <td>Rs 8733.68</td>\n",
              "    </tr>\n",
              "    <tr>\n",
              "      <th>41</th>\n",
              "      <td>121</td>\n",
              "      <td>08-09-14 10:42</td>\n",
              "      <td>Received</td>\n",
              "      <td>Bill dated 06-Sep-2014 for Rs 111.24 has been ...</td>\n",
              "      <td>Rs 111.24</td>\n",
              "    </tr>\n",
              "    <tr>\n",
              "      <th>42</th>\n",
              "      <td>121</td>\n",
              "      <td>08-09-14 14:47</td>\n",
              "      <td>Received</td>\n",
              "      <td>Bill for airtel mobile 8527890804, dtd 06-Sep-...</td>\n",
              "      <td>Rs 111.24</td>\n",
              "    </tr>\n",
              "    <tr>\n",
              "      <th>46</th>\n",
              "      <td>121</td>\n",
              "      <td>08-10-14 9:50</td>\n",
              "      <td>Received</td>\n",
              "      <td>Bill for airtel mobile 8527890804, dtd 06-Oct-...</td>\n",
              "      <td>Rs 225.61</td>\n",
              "    </tr>\n",
              "    <tr>\n",
              "      <th>54</th>\n",
              "      <td>121</td>\n",
              "      <td>07-11-14 18:03</td>\n",
              "      <td>Received</td>\n",
              "      <td>Bill for airtel mobile 8527890804, dtd 06-Nov-...</td>\n",
              "      <td>Rs 111.24</td>\n",
              "    </tr>\n",
              "    <tr>\n",
              "      <th>...</th>\n",
              "      <td>...</td>\n",
              "      <td>...</td>\n",
              "      <td>...</td>\n",
              "      <td>...</td>\n",
              "      <td>...</td>\n",
              "    </tr>\n",
              "    <tr>\n",
              "      <th>19035</th>\n",
              "      <td>TX-DBSBNK</td>\n",
              "      <td>14-12-20 2:45</td>\n",
              "      <td>Received</td>\n",
              "      <td>Your IGL bill of Rs 164.70for 7000056947 is du...</td>\n",
              "      <td>Rs 164.70</td>\n",
              "    </tr>\n",
              "    <tr>\n",
              "      <th>19142</th>\n",
              "      <td>AX-HDFCBK</td>\n",
              "      <td>18-12-20 15:18</td>\n",
              "      <td>Received</td>\n",
              "      <td>Dear Cardmember, E-statement for your Card end...</td>\n",
              "      <td>Rs 18543</td>\n",
              "    </tr>\n",
              "    <tr>\n",
              "      <th>19226</th>\n",
              "      <td>AX-GSTEWB</td>\n",
              "      <td>22-12-20 10:33</td>\n",
              "      <td>Received</td>\n",
              "      <td>GSTIN: 09AADCL1050H1ZS: Your E-waybill statist...</td>\n",
              "      <td>Rs 09</td>\n",
              "    </tr>\n",
              "    <tr>\n",
              "      <th>19271</th>\n",
              "      <td>JD-MYAMEX</td>\n",
              "      <td>24-12-20 10:21</td>\n",
              "      <td>Received</td>\n",
              "      <td>Dear Customer, your statement for AMEX Card **...</td>\n",
              "      <td>Rs 253.00</td>\n",
              "    </tr>\n",
              "    <tr>\n",
              "      <th>19341</th>\n",
              "      <td>121</td>\n",
              "      <td>28-12-20 13:15</td>\n",
              "      <td>Received</td>\n",
              "      <td>Bill details for your Airtel Xstream Fiber a/c...</td>\n",
              "      <td>Rs 13073627</td>\n",
              "    </tr>\n",
              "  </tbody>\n",
              "</table>\n",
              "<p>795 rows × 5 columns</p>\n",
              "</div>"
            ],
            "text/plain": [
              "      phoneNumber  ...       amount\n",
              "27      LM-SBICRD  ...   Rs 8733.68\n",
              "41            121  ...    Rs 111.24\n",
              "42            121  ...    Rs 111.24\n",
              "46            121  ...    Rs 225.61\n",
              "54            121  ...    Rs 111.24\n",
              "...           ...  ...          ...\n",
              "19035   TX-DBSBNK  ...    Rs 164.70\n",
              "19142   AX-HDFCBK  ...     Rs 18543\n",
              "19226   AX-GSTEWB  ...        Rs 09\n",
              "19271   JD-MYAMEX  ...    Rs 253.00\n",
              "19341         121  ...  Rs 13073627\n",
              "\n",
              "[795 rows x 5 columns]"
            ]
          },
          "metadata": {
            "tags": []
          },
          "execution_count": 8
        }
      ]
    },
    {
      "cell_type": "code",
      "metadata": {
        "colab": {
          "base_uri": "https://localhost:8080/",
          "height": 53
        },
        "id": "hoWajes1KOa6",
        "outputId": "c922c058-0f2a-45de-d9f3-c1120e5dc6a8"
      },
      "source": [
        "df['message'][46]"
      ],
      "execution_count": 20,
      "outputs": [
        {
          "output_type": "execute_result",
          "data": {
            "application/vnd.google.colaboratory.intrinsic+json": {
              "type": "string"
            },
            "text/plain": [
              "'Bill for airtel mobile 8527890804, dtd 06-Oct-14, due amount Rs225.61, due date 24-Oct-14 has been sent on SanjibKumar@gmail.com from ebill@in.airtel.com .'"
            ]
          },
          "metadata": {
            "tags": []
          },
          "execution_count": 20
        }
      ]
    },
    {
      "cell_type": "code",
      "metadata": {
        "id": "nkGWuA6rJqgP"
      },
      "source": [
        "import re\n",
        "\n",
        "#bills_due['Due date'] = [0]*bills_due.shape[0]\n",
        "for x in bills_due.index:\n",
        "  try:\n",
        "    k = re.findall('((date|Date|Due|On|on|due)\\W[0-9][0-9]-[a-z|A-Z][a-z|A-Z][a-z|A-Z]-[0-9][0-9])', bills_due.message[x])\n",
        "    bills_due.loc[x,'Due date'] = k\n",
        "\n",
        "    #AMOUNT \n",
        "    #k = re.findall('[?:Rs\\.?INR]\\s*(\\d+(?:[.,]\\d+)*)|(\\d+(?:[.,]\\d+)*)\\s*(?:Rs\\.?|INR)', bills_due.message[x])\n",
        "    #currency = re.findall(r'\\b(Rs|INR|\\$)', bills_due.message[x])\n",
        "    #print(currency)\n",
        "    #bills_due.loc[x, 'amount'] = currency[0] + ' '+ k[0][0]\n",
        "    #_____XXXX_____\n",
        "\n",
        "\n",
        "  except: \n",
        "     pass "
      ],
      "execution_count": 39,
      "outputs": []
    },
    {
      "cell_type": "code",
      "metadata": {
        "colab": {
          "base_uri": "https://localhost:8080/"
        },
        "id": "goGZ4xfGbU5H",
        "outputId": "ee92c337-c35c-44ee-ea1f-e366f6dd43cc"
      },
      "source": [
        "#y = df['message'][41]\n",
        "#y = 'Bill for airtel mobile 8527890804, dtd 06-Oct-14, due amount Rs225.61, due date 24-Oct-14 has been sent on SanjibKumar@gmail.com from ebill@in.airtel.com .'\n",
        "\n",
        "#k = re.findall('((date|Date|Due|On|on|due)\\W[0-9][0-9]-[a-z|A-Z][a-z|A-Z][a-z|A-Z]-[0-9][0-9])', y)\n"
      ],
      "execution_count": 34,
      "outputs": [
        {
          "output_type": "execute_result",
          "data": {
            "text/plain": [
              "[('date:24-SEP-20', 'date')]"
            ]
          },
          "metadata": {
            "tags": []
          },
          "execution_count": 34
        }
      ]
    },
    {
      "cell_type": "code",
      "metadata": {
        "colab": {
          "base_uri": "https://localhost:8080/",
          "height": 415
        },
        "id": "0cnsmKXCK7xe",
        "outputId": "39c68e20-e5dc-490a-e509-b289b7069de5"
      },
      "source": [
        "bills_due"
      ],
      "execution_count": 40,
      "outputs": [
        {
          "output_type": "execute_result",
          "data": {
            "text/html": [
              "<div>\n",
              "<style scoped>\n",
              "    .dataframe tbody tr th:only-of-type {\n",
              "        vertical-align: middle;\n",
              "    }\n",
              "\n",
              "    .dataframe tbody tr th {\n",
              "        vertical-align: top;\n",
              "    }\n",
              "\n",
              "    .dataframe thead th {\n",
              "        text-align: right;\n",
              "    }\n",
              "</style>\n",
              "<table border=\"1\" class=\"dataframe\">\n",
              "  <thead>\n",
              "    <tr style=\"text-align: right;\">\n",
              "      <th></th>\n",
              "      <th>phoneNumber</th>\n",
              "      <th>messageTime</th>\n",
              "      <th>messageType</th>\n",
              "      <th>message</th>\n",
              "      <th>amount</th>\n",
              "      <th>Due date</th>\n",
              "    </tr>\n",
              "  </thead>\n",
              "  <tbody>\n",
              "    <tr>\n",
              "      <th>27</th>\n",
              "      <td>LM-SBICRD</td>\n",
              "      <td>17-08-14 12:45</td>\n",
              "      <td>Received</td>\n",
              "      <td>Your Statement Dt 15-AUG-14has been dispatched...</td>\n",
              "      <td>Rs 8733.68</td>\n",
              "      <td>0</td>\n",
              "    </tr>\n",
              "    <tr>\n",
              "      <th>41</th>\n",
              "      <td>121</td>\n",
              "      <td>08-09-14 10:42</td>\n",
              "      <td>Received</td>\n",
              "      <td>Bill dated 06-Sep-2014 for Rs 111.24 has been ...</td>\n",
              "      <td>Rs 111.24</td>\n",
              "      <td>0</td>\n",
              "    </tr>\n",
              "    <tr>\n",
              "      <th>42</th>\n",
              "      <td>121</td>\n",
              "      <td>08-09-14 14:47</td>\n",
              "      <td>Received</td>\n",
              "      <td>Bill for airtel mobile 8527890804, dtd 06-Sep-...</td>\n",
              "      <td>Rs 111.24</td>\n",
              "      <td>0</td>\n",
              "    </tr>\n",
              "    <tr>\n",
              "      <th>46</th>\n",
              "      <td>121</td>\n",
              "      <td>08-10-14 9:50</td>\n",
              "      <td>Received</td>\n",
              "      <td>Bill for airtel mobile 8527890804, dtd 06-Oct-...</td>\n",
              "      <td>Rs 225.61</td>\n",
              "      <td>0</td>\n",
              "    </tr>\n",
              "    <tr>\n",
              "      <th>54</th>\n",
              "      <td>121</td>\n",
              "      <td>07-11-14 18:03</td>\n",
              "      <td>Received</td>\n",
              "      <td>Bill for airtel mobile 8527890804, dtd 06-Nov-...</td>\n",
              "      <td>Rs 111.24</td>\n",
              "      <td>0</td>\n",
              "    </tr>\n",
              "    <tr>\n",
              "      <th>...</th>\n",
              "      <td>...</td>\n",
              "      <td>...</td>\n",
              "      <td>...</td>\n",
              "      <td>...</td>\n",
              "      <td>...</td>\n",
              "      <td>...</td>\n",
              "    </tr>\n",
              "    <tr>\n",
              "      <th>19035</th>\n",
              "      <td>TX-DBSBNK</td>\n",
              "      <td>14-12-20 2:45</td>\n",
              "      <td>Received</td>\n",
              "      <td>Your IGL bill of Rs 164.70for 7000056947 is du...</td>\n",
              "      <td>Rs 164.70</td>\n",
              "      <td>0</td>\n",
              "    </tr>\n",
              "    <tr>\n",
              "      <th>19142</th>\n",
              "      <td>AX-HDFCBK</td>\n",
              "      <td>18-12-20 15:18</td>\n",
              "      <td>Received</td>\n",
              "      <td>Dear Cardmember, E-statement for your Card end...</td>\n",
              "      <td>Rs 18543</td>\n",
              "      <td>0</td>\n",
              "    </tr>\n",
              "    <tr>\n",
              "      <th>19226</th>\n",
              "      <td>AX-GSTEWB</td>\n",
              "      <td>22-12-20 10:33</td>\n",
              "      <td>Received</td>\n",
              "      <td>GSTIN: 09AADCL1050H1ZS: Your E-waybill statist...</td>\n",
              "      <td>Rs 09</td>\n",
              "      <td>0</td>\n",
              "    </tr>\n",
              "    <tr>\n",
              "      <th>19271</th>\n",
              "      <td>JD-MYAMEX</td>\n",
              "      <td>24-12-20 10:21</td>\n",
              "      <td>Received</td>\n",
              "      <td>Dear Customer, your statement for AMEX Card **...</td>\n",
              "      <td>Rs 253.00</td>\n",
              "      <td>0</td>\n",
              "    </tr>\n",
              "    <tr>\n",
              "      <th>19341</th>\n",
              "      <td>121</td>\n",
              "      <td>28-12-20 13:15</td>\n",
              "      <td>Received</td>\n",
              "      <td>Bill details for your Airtel Xstream Fiber a/c...</td>\n",
              "      <td>Rs 13073627</td>\n",
              "      <td>0</td>\n",
              "    </tr>\n",
              "  </tbody>\n",
              "</table>\n",
              "<p>795 rows × 6 columns</p>\n",
              "</div>"
            ],
            "text/plain": [
              "      phoneNumber     messageTime  ...       amount Due date\n",
              "27      LM-SBICRD  17-08-14 12:45  ...   Rs 8733.68        0\n",
              "41            121  08-09-14 10:42  ...    Rs 111.24        0\n",
              "42            121  08-09-14 14:47  ...    Rs 111.24        0\n",
              "46            121   08-10-14 9:50  ...    Rs 225.61        0\n",
              "54            121  07-11-14 18:03  ...    Rs 111.24        0\n",
              "...           ...             ...  ...          ...      ...\n",
              "19035   TX-DBSBNK   14-12-20 2:45  ...    Rs 164.70        0\n",
              "19142   AX-HDFCBK  18-12-20 15:18  ...     Rs 18543        0\n",
              "19226   AX-GSTEWB  22-12-20 10:33  ...        Rs 09        0\n",
              "19271   JD-MYAMEX  24-12-20 10:21  ...    Rs 253.00        0\n",
              "19341         121  28-12-20 13:15  ...  Rs 13073627        0\n",
              "\n",
              "[795 rows x 6 columns]"
            ]
          },
          "metadata": {
            "tags": []
          },
          "execution_count": 40
        }
      ]
    },
    {
      "cell_type": "code",
      "metadata": {
        "colab": {
          "base_uri": "https://localhost:8080/",
          "height": 53
        },
        "id": "qPBZ5JjfLEK-",
        "outputId": "4cbb6979-49da-4514-c0ce-e14eb36dc6ba"
      },
      "source": [
        "df['message'][41]"
      ],
      "execution_count": 92,
      "outputs": [
        {
          "output_type": "execute_result",
          "data": {
            "application/vnd.google.colaboratory.intrinsic+json": {
              "type": "string"
            },
            "text/plain": [
              "'Bill dated 06-Sep-2014 for Rs 111.24 has been generated for your airtel mobile. The same will reach you by 11-Sep-2014. Due date:24-SEP-2014 . Bill details will be available at www.airtel.in and customer care after 48hrs.'"
            ]
          },
          "metadata": {
            "tags": []
          },
          "execution_count": 92
        }
      ]
    },
    {
      "cell_type": "code",
      "metadata": {
        "colab": {
          "base_uri": "https://localhost:8080/",
          "height": 17
        },
        "id": "Uu4nmWhcOPuK",
        "outputId": "712c8e32-58e1-437e-b96b-fa0a6f66d70f"
      },
      "source": [
        "from google.colab import files\n",
        "bills_due.to_csv('Wallet3.csv')\n",
        "files.download('Wallet3.csv')"
      ],
      "execution_count": 67,
      "outputs": [
        {
          "output_type": "display_data",
          "data": {
            "application/javascript": [
              "\n",
              "    async function download(id, filename, size) {\n",
              "      if (!google.colab.kernel.accessAllowed) {\n",
              "        return;\n",
              "      }\n",
              "      const div = document.createElement('div');\n",
              "      const label = document.createElement('label');\n",
              "      label.textContent = `Downloading \"${filename}\": `;\n",
              "      div.appendChild(label);\n",
              "      const progress = document.createElement('progress');\n",
              "      progress.max = size;\n",
              "      div.appendChild(progress);\n",
              "      document.body.appendChild(div);\n",
              "\n",
              "      const buffers = [];\n",
              "      let downloaded = 0;\n",
              "\n",
              "      const channel = await google.colab.kernel.comms.open(id);\n",
              "      // Send a message to notify the kernel that we're ready.\n",
              "      channel.send({})\n",
              "\n",
              "      for await (const message of channel.messages) {\n",
              "        // Send a message to notify the kernel that we're ready.\n",
              "        channel.send({})\n",
              "        if (message.buffers) {\n",
              "          for (const buffer of message.buffers) {\n",
              "            buffers.push(buffer);\n",
              "            downloaded += buffer.byteLength;\n",
              "            progress.value = downloaded;\n",
              "          }\n",
              "        }\n",
              "      }\n",
              "      const blob = new Blob(buffers, {type: 'application/binary'});\n",
              "      const a = document.createElement('a');\n",
              "      a.href = window.URL.createObjectURL(blob);\n",
              "      a.download = filename;\n",
              "      div.appendChild(a);\n",
              "      a.click();\n",
              "      div.remove();\n",
              "    }\n",
              "  "
            ],
            "text/plain": [
              "<IPython.core.display.Javascript object>"
            ]
          },
          "metadata": {
            "tags": []
          }
        },
        {
          "output_type": "display_data",
          "data": {
            "application/javascript": [
              "download(\"download_c1f5cae9-270d-4c0d-be2b-0e7c08c66ede\", \"Wallet3.csv\", 192787)"
            ],
            "text/plain": [
              "<IPython.core.display.Javascript object>"
            ]
          },
          "metadata": {
            "tags": []
          }
        }
      ]
    },
    {
      "cell_type": "code",
      "metadata": {
        "id": "iawqtjvOYR-e"
      },
      "source": [
        ""
      ],
      "execution_count": null,
      "outputs": []
    }
  ]
}